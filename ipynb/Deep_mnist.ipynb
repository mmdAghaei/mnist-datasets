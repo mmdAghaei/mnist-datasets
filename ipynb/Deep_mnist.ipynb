{
  "cells": [
    {
      "cell_type": "markdown",
      "metadata": {
        "id": "FJEK2ajSleA-"
      },
      "source": [
        "# Import Package"
      ]
    },
    {
      "cell_type": "code",
      "execution_count": 1,
      "metadata": {
        "id": "m3LUxrY4leBB"
      },
      "outputs": [],
      "source": [
        "import tensorflow as tf\n",
        "from tensorflow import keras\n",
        "import numpy as np\n",
        "import matplotlib.pyplot as plt"
      ]
    },
    {
      "cell_type": "markdown",
      "metadata": {
        "id": "uI7-6eEMx6jE"
      },
      "source": [
        "# Mnits DataSets"
      ]
    },
    {
      "cell_type": "code",
      "execution_count": 2,
      "metadata": {
        "id": "IHlRWejtx99Q"
      },
      "outputs": [],
      "source": [
        "mnit = keras.datasets.mnist"
      ]
    },
    {
      "cell_type": "markdown",
      "metadata": {
        "id": "8gx1YCU5leBF"
      },
      "source": [
        "# Split Test and Train"
      ]
    },
    {
      "cell_type": "code",
      "execution_count": 3,
      "metadata": {
        "colab": {
          "base_uri": "https://localhost:8080/"
        },
        "id": "7fOjMxTPleBG",
        "outputId": "9d144816-3833-44fb-dfe8-0a919ee6ff7f"
      },
      "outputs": [
        {
          "name": "stdout",
          "output_type": "stream",
          "text": [
            "Downloading data from https://storage.googleapis.com/tensorflow/tf-keras-datasets/mnist.npz\n",
            "11490434/11490434 [==============================] - 0s 0us/step\n"
          ]
        }
      ],
      "source": [
        "(x_train,y_train),(x_test,y_test) = mnit.load_data()"
      ]
    },
    {
      "cell_type": "code",
      "execution_count": 8,
      "metadata": {
        "colab": {
          "base_uri": "https://localhost:8080/",
          "height": 465
        },
        "id": "eR379wbfySOF",
        "outputId": "d993604e-73b4-4a3a-b17c-6e0a3a0ed8a0"
      },
      "outputs": [
        {
          "name": "stdout",
          "output_type": "stream",
          "text": [
            "9\n"
          ]
        },
        {
          "data": {
            "text/plain": [
              "<matplotlib.image.AxesImage at 0x7bb611a5f550>"
            ]
          },
          "execution_count": 8,
          "metadata": {},
          "output_type": "execute_result"
        },
        {
          "data": {
            "image/png": "[encoded data removed]",
            "text/plain": [
              "<Figure size 640x480 with 1 Axes>"
            ]
          },
          "metadata": {},
          "output_type": "display_data"
        }
      ],
      "source": [
        "index = 54\n",
        "img = x_train[index]\n",
        "print(y_train[index])\n",
        "plt.imshow(img,cmap=\"gray\")"
      ]
    },
    {
      "cell_type": "markdown",
      "metadata": {
        "id": "a37518p2leBG"
      },
      "source": [
        "# 1) Model"
      ]
    },
    {
      "cell_type": "code",
      "execution_count": 10,
      "metadata": {
        "id": "UYCstjiUleBG"
      },
      "outputs": [],
      "source": [
        "model = keras.Sequential()\n",
        "model.add(keras.layers.Flatten())\n",
        "model.add(keras.layers.Dense(units=256,activation='relu'))\n",
        "model.add(keras.layers.Dense(units=256,activation='relu'))\n",
        "model.add(keras.layers.Dense(units=256,activation='relu'))\n",
        "model.add(keras.layers.Dense(units=10,activation='softmax'))"
      ]
    },
    {
      "cell_type": "markdown",
      "metadata": {
        "id": "UjnBxFBZleBH"
      },
      "source": [
        "# Compile"
      ]
    },
    {
      "cell_type": "code",
      "execution_count": 12,
      "metadata": {
        "id": "DIF7jGTWleBH"
      },
      "outputs": [],
      "source": [
        "model.compile(optimizer='adam',loss=tf.losses.sparse_categorical_crossentropy,metrics=['accuracy'])"
      ]
    },
    {
      "cell_type": "markdown",
      "metadata": {
        "id": "Mtit6GEWleBI"
      },
      "source": [
        "# Summary"
      ]
    },
    {
      "cell_type": "code",
      "execution_count": 16,
      "metadata": {
        "colab": {
          "base_uri": "https://localhost:8080/"
        },
        "id": "hbASof_VleBI",
        "outputId": "72e2b8e1-f8f4-4213-989e-1f91bdc76ccd"
      },
      "outputs": [
        {
          "name": "stdout",
          "output_type": "stream",
          "text": [
            "Model: \"sequential_1\"\n",
            "_________________________________________________________________\n",
            " Layer (type)                Output Shape              Param #   \n",
            "=================================================================\n",
            " flatten_1 (Flatten)         (None, 784)               0         \n",
            "                                                                 \n",
            " dense_3 (Dense)             (None, 256)               200960    \n",
            "                                                                 \n",
            " dense_4 (Dense)             (None, 256)               65792     \n",
            "                                                                 \n",
            " dense_5 (Dense)             (None, 256)               65792     \n",
            "                                                                 \n",
            " dense_6 (Dense)             (None, 10)                2570      \n",
            "                                                                 \n",
            "=================================================================\n",
            "Total params: 335114 (1.28 MB)\n",
            "Trainable params: 335114 (1.28 MB)\n",
            "Non-trainable params: 0 (0.00 Byte)\n",
            "_________________________________________________________________\n"
          ]
        }
      ],
      "source": [
        "model.build(input_shape=(None,x_train.shape))\n",
        "model.summary()"
      ]
    },
    {
      "cell_type": "markdown",
      "metadata": {
        "id": "8tUIMOBIleBJ"
      },
      "source": [
        "# Train Model"
      ]
    },
    {
      "cell_type": "code",
      "execution_count": 18,
      "metadata": {
        "colab": {
          "base_uri": "https://localhost:8080/"
        },
        "id": "5IqKxBrLleBJ",
        "outputId": "9bb7630f-745f-4521-af67-898f5cee25b4"
      },
      "outputs": [
        {
          "name": "stdout",
          "output_type": "stream",
          "text": [
            "Epoch 1/300\n",
            "300/300 [==============================] - 1s 4ms/step - loss: 0.0079 - accuracy: 0.9985 - val_loss: 0.3540 - val_accuracy: 0.9787\n",
            "Epoch 2/300\n",
            "300/300 [==============================] - 1s 4ms/step - loss: 0.0059 - accuracy: 0.9992 - val_loss: 0.3338 - val_accuracy: 0.9811\n",
            "Epoch 3/300\n",
            "300/300 [==============================] - 1s 4ms/step - loss: 0.0042 - accuracy: 0.9992 - val_loss: 0.2946 - val_accuracy: 0.9802\n",
            "Epoch 4/300\n",
            "300/300 [==============================] - 1s 4ms/step - loss: 0.0013 - accuracy: 0.9997 - val_loss: 0.3438 - val_accuracy: 0.9808\n",
            "Epoch 5/300\n",
            "300/300 [==============================] - 1s 4ms/step - loss: 7.8084e-04 - accuracy: 0.9998 - val_loss: 0.3562 - val_accuracy: 0.9809\n",
            "Epoch 6/300\n",
            "300/300 [==============================] - 1s 4ms/step - loss: 0.0016 - accuracy: 0.9997 - val_loss: 0.3470 - val_accuracy: 0.9791\n",
            "Epoch 7/300\n",
            "300/300 [==============================] - 1s 4ms/step - loss: 0.0074 - accuracy: 0.9988 - val_loss: 0.4371 - val_accuracy: 0.9772\n",
            "Epoch 8/300\n",
            "300/300 [==============================] - 1s 4ms/step - loss: 0.0137 - accuracy: 0.9979 - val_loss: 0.3972 - val_accuracy: 0.9760\n",
            "Epoch 9/300\n",
            "300/300 [==============================] - 1s 4ms/step - loss: 0.0182 - accuracy: 0.9976 - val_loss: 0.3216 - val_accuracy: 0.9753\n",
            "Epoch 10/300\n",
            "300/300 [==============================] - 2s 5ms/step - loss: 0.0055 - accuracy: 0.9990 - val_loss: 0.3461 - val_accuracy: 0.9797\n",
            "Epoch 11/300\n",
            "300/300 [==============================] - 1s 4ms/step - loss: 0.0088 - accuracy: 0.9987 - val_loss: 0.3491 - val_accuracy: 0.9774\n",
            "Epoch 12/300\n",
            "300/300 [==============================] - 1s 4ms/step - loss: 0.0057 - accuracy: 0.9991 - val_loss: 0.4047 - val_accuracy: 0.9792\n",
            "Epoch 13/300\n",
            "300/300 [==============================] - 1s 4ms/step - loss: 0.0059 - accuracy: 0.9991 - val_loss: 0.4419 - val_accuracy: 0.9805\n",
            "Epoch 14/300\n",
            "300/300 [==============================] - 1s 4ms/step - loss: 0.0066 - accuracy: 0.9986 - val_loss: 0.4698 - val_accuracy: 0.9789\n",
            "Epoch 15/300\n",
            "300/300 [==============================] - 1s 4ms/step - loss: 0.0155 - accuracy: 0.9976 - val_loss: 0.3841 - val_accuracy: 0.9770\n",
            "Epoch 16/300\n",
            "300/300 [==============================] - 1s 4ms/step - loss: 0.0185 - accuracy: 0.9968 - val_loss: 0.3440 - val_accuracy: 0.9767\n",
            "Epoch 17/300\n",
            "300/300 [==============================] - 1s 4ms/step - loss: 0.0078 - accuracy: 0.9990 - val_loss: 0.3146 - val_accuracy: 0.9793\n",
            "Epoch 18/300\n",
            "300/300 [==============================] - 1s 4ms/step - loss: 0.0053 - accuracy: 0.9990 - val_loss: 0.3232 - val_accuracy: 0.9783\n",
            "Epoch 19/300\n",
            "300/300 [==============================] - 1s 4ms/step - loss: 0.0045 - accuracy: 0.9992 - val_loss: 0.3668 - val_accuracy: 0.9799\n",
            "Epoch 20/300\n",
            "300/300 [==============================] - 2s 5ms/step - loss: 0.0136 - accuracy: 0.9988 - val_loss: 0.3698 - val_accuracy: 0.9750\n",
            "Epoch 21/300\n",
            "300/300 [==============================] - 1s 4ms/step - loss: 0.0041 - accuracy: 0.9993 - val_loss: 0.4305 - val_accuracy: 0.9805\n",
            "Epoch 22/300\n",
            "300/300 [==============================] - 1s 4ms/step - loss: 0.0054 - accuracy: 0.9992 - val_loss: 0.3608 - val_accuracy: 0.9815\n",
            "Epoch 23/300\n",
            "300/300 [==============================] - 1s 4ms/step - loss: 0.0036 - accuracy: 0.9993 - val_loss: 0.3397 - val_accuracy: 0.9799\n",
            "Epoch 24/300\n",
            "300/300 [==============================] - 1s 4ms/step - loss: 0.0101 - accuracy: 0.9987 - val_loss: 0.2581 - val_accuracy: 0.9789\n",
            "Epoch 25/300\n",
            "300/300 [==============================] - 1s 4ms/step - loss: 0.0153 - accuracy: 0.9986 - val_loss: 0.3026 - val_accuracy: 0.9787\n",
            "Epoch 26/300\n",
            "300/300 [==============================] - 1s 4ms/step - loss: 0.0067 - accuracy: 0.9987 - val_loss: 0.2966 - val_accuracy: 0.9792\n",
            "Epoch 27/300\n",
            "300/300 [==============================] - 1s 4ms/step - loss: 0.0094 - accuracy: 0.9988 - val_loss: 0.2857 - val_accuracy: 0.9814\n",
            "Epoch 28/300\n",
            "300/300 [==============================] - 1s 4ms/step - loss: 0.0062 - accuracy: 0.9990 - val_loss: 0.3260 - val_accuracy: 0.9767\n",
            "Epoch 29/300\n",
            "300/300 [==============================] - 1s 4ms/step - loss: 0.0046 - accuracy: 0.9991 - val_loss: 0.4451 - val_accuracy: 0.9757\n",
            "Epoch 30/300\n",
            "300/300 [==============================] - 2s 5ms/step - loss: 0.0159 - accuracy: 0.9979 - val_loss: 0.3805 - val_accuracy: 0.9737\n",
            "Epoch 31/300\n",
            "300/300 [==============================] - 1s 4ms/step - loss: 0.0100 - accuracy: 0.9987 - val_loss: 0.5566 - val_accuracy: 0.9750\n",
            "Epoch 32/300\n",
            "300/300 [==============================] - 1s 4ms/step - loss: 0.0146 - accuracy: 0.9985 - val_loss: 0.4715 - val_accuracy: 0.9773\n",
            "Epoch 33/300\n",
            "300/300 [==============================] - 1s 4ms/step - loss: 0.0101 - accuracy: 0.9986 - val_loss: 0.5709 - val_accuracy: 0.9798\n",
            "Epoch 34/300\n",
            "300/300 [==============================] - 1s 4ms/step - loss: 0.0131 - accuracy: 0.9991 - val_loss: 0.3837 - val_accuracy: 0.9786\n",
            "Epoch 35/300\n",
            "300/300 [==============================] - 1s 4ms/step - loss: 0.0066 - accuracy: 0.9988 - val_loss: 0.4334 - val_accuracy: 0.9774\n",
            "Epoch 36/300\n",
            "300/300 [==============================] - 1s 4ms/step - loss: 0.0098 - accuracy: 0.9987 - val_loss: 0.4195 - val_accuracy: 0.9789\n",
            "Epoch 37/300\n",
            "300/300 [==============================] - 1s 4ms/step - loss: 0.0065 - accuracy: 0.9991 - val_loss: 0.5381 - val_accuracy: 0.9745\n",
            "Epoch 38/300\n",
            "300/300 [==============================] - 1s 4ms/step - loss: 0.0040 - accuracy: 0.9992 - val_loss: 0.4262 - val_accuracy: 0.9801\n",
            "Epoch 39/300\n",
            "300/300 [==============================] - 1s 4ms/step - loss: 0.0039 - accuracy: 0.9993 - val_loss: 0.4460 - val_accuracy: 0.9807\n",
            "Epoch 40/300\n",
            "300/300 [==============================] - 1s 5ms/step - loss: 0.0046 - accuracy: 0.9995 - val_loss: 0.4092 - val_accuracy: 0.9798\n",
            "Epoch 41/300\n",
            "300/300 [==============================] - 1s 5ms/step - loss: 0.0098 - accuracy: 0.9990 - val_loss: 0.5047 - val_accuracy: 0.9785\n",
            "Epoch 42/300\n",
            "300/300 [==============================] - 1s 4ms/step - loss: 0.0104 - accuracy: 0.9985 - val_loss: 0.3352 - val_accuracy: 0.9758\n",
            "Epoch 43/300\n",
            "300/300 [==============================] - 1s 4ms/step - loss: 0.0052 - accuracy: 0.9990 - val_loss: 0.3867 - val_accuracy: 0.9793\n",
            "Epoch 44/300\n",
            "300/300 [==============================] - 1s 4ms/step - loss: 0.0044 - accuracy: 0.9994 - val_loss: 0.4402 - val_accuracy: 0.9793\n",
            "Epoch 45/300\n",
            "300/300 [==============================] - 1s 4ms/step - loss: 0.0077 - accuracy: 0.9991 - val_loss: 0.4048 - val_accuracy: 0.9807\n",
            "Epoch 46/300\n",
            "300/300 [==============================] - 1s 4ms/step - loss: 0.0020 - accuracy: 0.9997 - val_loss: 0.3940 - val_accuracy: 0.9811\n",
            "Epoch 47/300\n",
            "300/300 [==============================] - 1s 4ms/step - loss: 0.0038 - accuracy: 0.9995 - val_loss: 0.4146 - val_accuracy: 0.9807\n",
            "Epoch 48/300\n",
            "300/300 [==============================] - 1s 4ms/step - loss: 0.0167 - accuracy: 0.9978 - val_loss: 0.3187 - val_accuracy: 0.9776\n",
            "Epoch 49/300\n",
            "300/300 [==============================] - 1s 4ms/step - loss: 0.0108 - accuracy: 0.9985 - val_loss: 0.3223 - val_accuracy: 0.9775\n",
            "Epoch 50/300\n",
            "300/300 [==============================] - 1s 4ms/step - loss: 0.0014 - accuracy: 0.9996 - val_loss: 0.3820 - val_accuracy: 0.9809\n",
            "Epoch 51/300\n",
            "300/300 [==============================] - 1s 5ms/step - loss: 0.0107 - accuracy: 0.9984 - val_loss: 0.4899 - val_accuracy: 0.9761\n",
            "Epoch 52/300\n",
            "300/300 [==============================] - 1s 4ms/step - loss: 0.0073 - accuracy: 0.9987 - val_loss: 0.3713 - val_accuracy: 0.9787\n",
            "Epoch 53/300\n",
            "300/300 [==============================] - 1s 4ms/step - loss: 0.0116 - accuracy: 0.9982 - val_loss: 0.3590 - val_accuracy: 0.9781\n",
            "Epoch 54/300\n",
            "300/300 [==============================] - 1s 4ms/step - loss: 0.0096 - accuracy: 0.9987 - val_loss: 0.3716 - val_accuracy: 0.9772\n",
            "Epoch 55/300\n",
            "300/300 [==============================] - 1s 4ms/step - loss: 0.0063 - accuracy: 0.9990 - val_loss: 0.6253 - val_accuracy: 0.9781\n",
            "Epoch 56/300\n",
            "300/300 [==============================] - 1s 4ms/step - loss: 0.0048 - accuracy: 0.9994 - val_loss: 0.4307 - val_accuracy: 0.9803\n",
            "Epoch 57/300\n",
            "300/300 [==============================] - 1s 4ms/step - loss: 0.0136 - accuracy: 0.9983 - val_loss: 0.5631 - val_accuracy: 0.9758\n",
            "Epoch 58/300\n",
            "300/300 [==============================] - 1s 4ms/step - loss: 0.0158 - accuracy: 0.9975 - val_loss: 0.3678 - val_accuracy: 0.9761\n",
            "Epoch 59/300\n",
            "300/300 [==============================] - 1s 4ms/step - loss: 0.0095 - accuracy: 0.9981 - val_loss: 0.4435 - val_accuracy: 0.9769\n",
            "Epoch 60/300\n",
            "300/300 [==============================] - 1s 4ms/step - loss: 0.0057 - accuracy: 0.9988 - val_loss: 0.3844 - val_accuracy: 0.9777\n",
            "Epoch 61/300\n",
            "300/300 [==============================] - 1s 5ms/step - loss: 0.0053 - accuracy: 0.9991 - val_loss: 0.4592 - val_accuracy: 0.9796\n",
            "Epoch 62/300\n",
            "300/300 [==============================] - 1s 4ms/step - loss: 0.0071 - accuracy: 0.9992 - val_loss: 0.4507 - val_accuracy: 0.9785\n",
            "Epoch 63/300\n",
            "300/300 [==============================] - 1s 4ms/step - loss: 0.0113 - accuracy: 0.9985 - val_loss: 0.4320 - val_accuracy: 0.9761\n",
            "Epoch 64/300\n",
            "300/300 [==============================] - 1s 4ms/step - loss: 0.0124 - accuracy: 0.9980 - val_loss: 0.4518 - val_accuracy: 0.9783\n",
            "Epoch 65/300\n",
            "300/300 [==============================] - 1s 4ms/step - loss: 0.0145 - accuracy: 0.9982 - val_loss: 0.4720 - val_accuracy: 0.9714\n",
            "Epoch 66/300\n",
            "300/300 [==============================] - 1s 4ms/step - loss: 0.0057 - accuracy: 0.9991 - val_loss: 0.4332 - val_accuracy: 0.9786\n",
            "Epoch 67/300\n",
            "300/300 [==============================] - 1s 4ms/step - loss: 0.0063 - accuracy: 0.9993 - val_loss: 0.5117 - val_accuracy: 0.9806\n",
            "Epoch 68/300\n",
            "300/300 [==============================] - 1s 4ms/step - loss: 0.0031 - accuracy: 0.9997 - val_loss: 0.5066 - val_accuracy: 0.9797\n",
            "Epoch 69/300\n",
            "300/300 [==============================] - 1s 4ms/step - loss: 0.0151 - accuracy: 0.9980 - val_loss: 0.3670 - val_accuracy: 0.9785\n",
            "Epoch 70/300\n",
            "300/300 [==============================] - 1s 4ms/step - loss: 0.0048 - accuracy: 0.9992 - val_loss: 0.3626 - val_accuracy: 0.9796\n",
            "Epoch 71/300\n",
            "300/300 [==============================] - 1s 5ms/step - loss: 0.0032 - accuracy: 0.9994 - val_loss: 0.4112 - val_accuracy: 0.9801\n",
            "Epoch 72/300\n",
            "300/300 [==============================] - 1s 4ms/step - loss: 5.7233e-04 - accuracy: 0.9998 - val_loss: 0.4486 - val_accuracy: 0.9810\n",
            "Epoch 73/300\n",
            "300/300 [==============================] - 1s 4ms/step - loss: 6.4807e-04 - accuracy: 0.9999 - val_loss: 0.5052 - val_accuracy: 0.9789\n",
            "Epoch 74/300\n",
            "300/300 [==============================] - 1s 4ms/step - loss: 0.0048 - accuracy: 0.9992 - val_loss: 0.6503 - val_accuracy: 0.9751\n",
            "Epoch 75/300\n",
            "300/300 [==============================] - 1s 4ms/step - loss: 0.0156 - accuracy: 0.9978 - val_loss: 0.4521 - val_accuracy: 0.9757\n",
            "Epoch 76/300\n",
            "300/300 [==============================] - 1s 4ms/step - loss: 0.0088 - accuracy: 0.9986 - val_loss: 0.4021 - val_accuracy: 0.9792\n",
            "Epoch 77/300\n",
            "300/300 [==============================] - 1s 4ms/step - loss: 0.0090 - accuracy: 0.9985 - val_loss: 0.5185 - val_accuracy: 0.9748\n",
            "Epoch 78/300\n",
            "300/300 [==============================] - 1s 4ms/step - loss: 0.0105 - accuracy: 0.9987 - val_loss: 0.4671 - val_accuracy: 0.9736\n",
            "Epoch 79/300\n",
            "300/300 [==============================] - 1s 4ms/step - loss: 0.0047 - accuracy: 0.9993 - val_loss: 0.4281 - val_accuracy: 0.9766\n",
            "Epoch 80/300\n",
            "300/300 [==============================] - 1s 4ms/step - loss: 0.0036 - accuracy: 0.9994 - val_loss: 0.5787 - val_accuracy: 0.9757\n",
            "Epoch 81/300\n",
            "300/300 [==============================] - 2s 5ms/step - loss: 0.0171 - accuracy: 0.9978 - val_loss: 0.3588 - val_accuracy: 0.9780\n",
            "Epoch 82/300\n",
            "300/300 [==============================] - 1s 4ms/step - loss: 0.0045 - accuracy: 0.9993 - val_loss: 0.3858 - val_accuracy: 0.9792\n",
            "Epoch 83/300\n",
            "300/300 [==============================] - 1s 4ms/step - loss: 0.0040 - accuracy: 0.9993 - val_loss: 0.4092 - val_accuracy: 0.9804\n",
            "Epoch 84/300\n",
            "300/300 [==============================] - 1s 4ms/step - loss: 0.0013 - accuracy: 0.9997 - val_loss: 0.4395 - val_accuracy: 0.9814\n",
            "Epoch 85/300\n",
            "300/300 [==============================] - 1s 4ms/step - loss: 0.0026 - accuracy: 0.9997 - val_loss: 0.5121 - val_accuracy: 0.9768\n",
            "Epoch 86/300\n",
            "300/300 [==============================] - 1s 4ms/step - loss: 0.0098 - accuracy: 0.9988 - val_loss: 0.3966 - val_accuracy: 0.9789\n",
            "Epoch 87/300\n",
            "300/300 [==============================] - 1s 4ms/step - loss: 0.0094 - accuracy: 0.9988 - val_loss: 0.4728 - val_accuracy: 0.9760\n",
            "Epoch 88/300\n",
            "300/300 [==============================] - 1s 4ms/step - loss: 0.0157 - accuracy: 0.9976 - val_loss: 0.4643 - val_accuracy: 0.9741\n",
            "Epoch 89/300\n",
            "300/300 [==============================] - 1s 4ms/step - loss: 0.0132 - accuracy: 0.9979 - val_loss: 0.5172 - val_accuracy: 0.9769\n",
            "Epoch 90/300\n",
            "300/300 [==============================] - 1s 5ms/step - loss: 0.0087 - accuracy: 0.9981 - val_loss: 0.4091 - val_accuracy: 0.9777\n",
            "Epoch 91/300\n",
            "300/300 [==============================] - 2s 5ms/step - loss: 0.0091 - accuracy: 0.9987 - val_loss: 0.3740 - val_accuracy: 0.9796\n",
            "Epoch 92/300\n",
            "300/300 [==============================] - 1s 4ms/step - loss: 0.0069 - accuracy: 0.9987 - val_loss: 0.5026 - val_accuracy: 0.9771\n",
            "Epoch 93/300\n",
            "300/300 [==============================] - 1s 4ms/step - loss: 0.0059 - accuracy: 0.9991 - val_loss: 0.4623 - val_accuracy: 0.9799\n",
            "Epoch 94/300\n",
            "300/300 [==============================] - 1s 4ms/step - loss: 0.0068 - accuracy: 0.9992 - val_loss: 0.5147 - val_accuracy: 0.9773\n",
            "Epoch 95/300\n",
            "300/300 [==============================] - 1s 4ms/step - loss: 0.0032 - accuracy: 0.9994 - val_loss: 0.6540 - val_accuracy: 0.9787\n",
            "Epoch 96/300\n",
            "300/300 [==============================] - 1s 4ms/step - loss: 0.0069 - accuracy: 0.9989 - val_loss: 0.5165 - val_accuracy: 0.9769\n",
            "Epoch 97/300\n",
            "300/300 [==============================] - 1s 4ms/step - loss: 0.0078 - accuracy: 0.9986 - val_loss: 0.5024 - val_accuracy: 0.9796\n",
            "Epoch 98/300\n",
            "300/300 [==============================] - 1s 4ms/step - loss: 0.0014 - accuracy: 0.9996 - val_loss: 0.6596 - val_accuracy: 0.9783\n",
            "Epoch 99/300\n",
            "300/300 [==============================] - 1s 4ms/step - loss: 0.0120 - accuracy: 0.9983 - val_loss: 0.4199 - val_accuracy: 0.9762\n",
            "Epoch 100/300\n",
            "300/300 [==============================] - 1s 4ms/step - loss: 0.0116 - accuracy: 0.9987 - val_loss: 0.4330 - val_accuracy: 0.9762\n",
            "Epoch 101/300\n",
            "300/300 [==============================] - 2s 5ms/step - loss: 0.0104 - accuracy: 0.9987 - val_loss: 0.5566 - val_accuracy: 0.9802\n",
            "Epoch 102/300\n",
            "300/300 [==============================] - 1s 4ms/step - loss: 0.0121 - accuracy: 0.9984 - val_loss: 0.5209 - val_accuracy: 0.9786\n",
            "Epoch 103/300\n",
            "300/300 [==============================] - 1s 4ms/step - loss: 0.0207 - accuracy: 0.9975 - val_loss: 0.5649 - val_accuracy: 0.9755\n",
            "Epoch 104/300\n",
            "300/300 [==============================] - 1s 4ms/step - loss: 0.0156 - accuracy: 0.9973 - val_loss: 0.4676 - val_accuracy: 0.9754\n",
            "Epoch 105/300\n",
            "300/300 [==============================] - 1s 4ms/step - loss: 0.0220 - accuracy: 0.9979 - val_loss: 0.4726 - val_accuracy: 0.9731\n",
            "Epoch 106/300\n",
            "300/300 [==============================] - 1s 4ms/step - loss: 0.0172 - accuracy: 0.9974 - val_loss: 0.5986 - val_accuracy: 0.9771\n",
            "Epoch 107/300\n",
            "300/300 [==============================] - 1s 4ms/step - loss: 0.0060 - accuracy: 0.9989 - val_loss: 0.5401 - val_accuracy: 0.9765\n",
            "Epoch 108/300\n",
            "300/300 [==============================] - 1s 4ms/step - loss: 0.0080 - accuracy: 0.9987 - val_loss: 0.5301 - val_accuracy: 0.9794\n",
            "Epoch 109/300\n",
            "300/300 [==============================] - 1s 4ms/step - loss: 0.0029 - accuracy: 0.9993 - val_loss: 0.5857 - val_accuracy: 0.9791\n",
            "Epoch 110/300\n",
            "300/300 [==============================] - 1s 4ms/step - loss: 0.0081 - accuracy: 0.9987 - val_loss: 0.5736 - val_accuracy: 0.9764\n",
            "Epoch 111/300\n",
            "300/300 [==============================] - 2s 5ms/step - loss: 0.0117 - accuracy: 0.9988 - val_loss: 0.5281 - val_accuracy: 0.9793\n",
            "Epoch 112/300\n",
            "300/300 [==============================] - 1s 4ms/step - loss: 0.0037 - accuracy: 0.9992 - val_loss: 0.6608 - val_accuracy: 0.9772\n",
            "Epoch 113/300\n",
            "300/300 [==============================] - 1s 4ms/step - loss: 0.0089 - accuracy: 0.9989 - val_loss: 0.7964 - val_accuracy: 0.9771\n",
            "Epoch 114/300\n",
            "300/300 [==============================] - 1s 4ms/step - loss: 0.0108 - accuracy: 0.9991 - val_loss: 0.7949 - val_accuracy: 0.9793\n",
            "Epoch 115/300\n",
            "300/300 [==============================] - 1s 4ms/step - loss: 0.0109 - accuracy: 0.9985 - val_loss: 0.4928 - val_accuracy: 0.9769\n",
            "Epoch 116/300\n",
            "300/300 [==============================] - 1s 4ms/step - loss: 0.0091 - accuracy: 0.9989 - val_loss: 0.4976 - val_accuracy: 0.9766\n",
            "Epoch 117/300\n",
            "300/300 [==============================] - 1s 4ms/step - loss: 0.0168 - accuracy: 0.9981 - val_loss: 0.6332 - val_accuracy: 0.9770\n",
            "Epoch 118/300\n",
            "300/300 [==============================] - 1s 4ms/step - loss: 0.0098 - accuracy: 0.9986 - val_loss: 0.5881 - val_accuracy: 0.9776\n",
            "Epoch 119/300\n",
            "300/300 [==============================] - 1s 4ms/step - loss: 0.0183 - accuracy: 0.9981 - val_loss: 0.7155 - val_accuracy: 0.9778\n",
            "Epoch 120/300\n",
            "300/300 [==============================] - 1s 4ms/step - loss: 0.0146 - accuracy: 0.9982 - val_loss: 0.7100 - val_accuracy: 0.9783\n",
            "Epoch 121/300\n",
            "300/300 [==============================] - 2s 5ms/step - loss: 0.0029 - accuracy: 0.9995 - val_loss: 0.7618 - val_accuracy: 0.9789\n",
            "Epoch 122/300\n",
            "300/300 [==============================] - 1s 4ms/step - loss: 0.0023 - accuracy: 0.9995 - val_loss: 0.7301 - val_accuracy: 0.9803\n",
            "Epoch 123/300\n",
            "300/300 [==============================] - 1s 4ms/step - loss: 0.0068 - accuracy: 0.9990 - val_loss: 0.6655 - val_accuracy: 0.9807\n",
            "Epoch 124/300\n",
            "300/300 [==============================] - 1s 4ms/step - loss: 0.0031 - accuracy: 0.9994 - val_loss: 0.7537 - val_accuracy: 0.9809\n",
            "Epoch 125/300\n",
            "300/300 [==============================] - 1s 4ms/step - loss: 0.0020 - accuracy: 0.9996 - val_loss: 0.7564 - val_accuracy: 0.9798\n",
            "Epoch 126/300\n",
            "300/300 [==============================] - 1s 4ms/step - loss: 0.0119 - accuracy: 0.9985 - val_loss: 0.5579 - val_accuracy: 0.9682\n",
            "Epoch 127/300\n",
            "300/300 [==============================] - 1s 4ms/step - loss: 0.0129 - accuracy: 0.9977 - val_loss: 0.7059 - val_accuracy: 0.9783\n",
            "Epoch 128/300\n",
            "300/300 [==============================] - 1s 4ms/step - loss: 0.0121 - accuracy: 0.9982 - val_loss: 0.9279 - val_accuracy: 0.9742\n",
            "Epoch 129/300\n",
            "300/300 [==============================] - 1s 4ms/step - loss: 0.0204 - accuracy: 0.9977 - val_loss: 0.8398 - val_accuracy: 0.9780\n",
            "Epoch 130/300\n",
            "300/300 [==============================] - 2s 5ms/step - loss: 0.0150 - accuracy: 0.9982 - val_loss: 0.7227 - val_accuracy: 0.9776\n",
            "Epoch 131/300\n",
            "300/300 [==============================] - 1s 5ms/step - loss: 0.0073 - accuracy: 0.9991 - val_loss: 0.6502 - val_accuracy: 0.9770\n",
            "Epoch 132/300\n",
            "300/300 [==============================] - 1s 4ms/step - loss: 0.0082 - accuracy: 0.9991 - val_loss: 0.7027 - val_accuracy: 0.9765\n",
            "Epoch 133/300\n",
            "300/300 [==============================] - 1s 4ms/step - loss: 0.0056 - accuracy: 0.9990 - val_loss: 0.6479 - val_accuracy: 0.9800\n",
            "Epoch 134/300\n",
            "300/300 [==============================] - 1s 4ms/step - loss: 0.0144 - accuracy: 0.9985 - val_loss: 0.7527 - val_accuracy: 0.9756\n",
            "Epoch 135/300\n",
            "300/300 [==============================] - 1s 4ms/step - loss: 0.0096 - accuracy: 0.9988 - val_loss: 0.6121 - val_accuracy: 0.9781\n",
            "Epoch 136/300\n",
            "300/300 [==============================] - 1s 4ms/step - loss: 0.0028 - accuracy: 0.9995 - val_loss: 0.6556 - val_accuracy: 0.9778\n",
            "Epoch 137/300\n",
            "300/300 [==============================] - 1s 4ms/step - loss: 0.0042 - accuracy: 0.9994 - val_loss: 0.6790 - val_accuracy: 0.9795\n",
            "Epoch 138/300\n",
            "300/300 [==============================] - 1s 4ms/step - loss: 0.0071 - accuracy: 0.9989 - val_loss: 0.6407 - val_accuracy: 0.9790\n",
            "Epoch 139/300\n",
            "300/300 [==============================] - 1s 4ms/step - loss: 0.0163 - accuracy: 0.9973 - val_loss: 0.6277 - val_accuracy: 0.9769\n",
            "Epoch 140/300\n",
            "300/300 [==============================] - 2s 5ms/step - loss: 0.0149 - accuracy: 0.9978 - val_loss: 0.6019 - val_accuracy: 0.9781\n",
            "Epoch 141/300\n",
            "300/300 [==============================] - 1s 4ms/step - loss: 0.0017 - accuracy: 0.9995 - val_loss: 0.7043 - val_accuracy: 0.9802\n",
            "Epoch 142/300\n",
            "300/300 [==============================] - 1s 4ms/step - loss: 0.0020 - accuracy: 0.9996 - val_loss: 0.7169 - val_accuracy: 0.9801\n",
            "Epoch 143/300\n",
            "300/300 [==============================] - 1s 4ms/step - loss: 0.0039 - accuracy: 0.9995 - val_loss: 0.7404 - val_accuracy: 0.9787\n",
            "Epoch 144/300\n",
            "300/300 [==============================] - 1s 4ms/step - loss: 0.0076 - accuracy: 0.9988 - val_loss: 0.9805 - val_accuracy: 0.9764\n",
            "Epoch 145/300\n",
            "300/300 [==============================] - 1s 4ms/step - loss: 0.0125 - accuracy: 0.9985 - val_loss: 0.7636 - val_accuracy: 0.9797\n",
            "Epoch 146/300\n",
            "300/300 [==============================] - 1s 4ms/step - loss: 0.0248 - accuracy: 0.9967 - val_loss: 1.1215 - val_accuracy: 0.9773\n",
            "Epoch 147/300\n",
            "300/300 [==============================] - 1s 4ms/step - loss: 0.0281 - accuracy: 0.9965 - val_loss: 0.8769 - val_accuracy: 0.9705\n",
            "Epoch 148/300\n",
            "300/300 [==============================] - 1s 4ms/step - loss: 0.0162 - accuracy: 0.9979 - val_loss: 0.6147 - val_accuracy: 0.9775\n",
            "Epoch 149/300\n",
            "300/300 [==============================] - 1s 4ms/step - loss: 0.0053 - accuracy: 0.9990 - val_loss: 0.6473 - val_accuracy: 0.9800\n",
            "Epoch 150/300\n",
            "300/300 [==============================] - 1s 5ms/step - loss: 0.0115 - accuracy: 0.9989 - val_loss: 0.7239 - val_accuracy: 0.9792\n",
            "Epoch 151/300\n",
            "300/300 [==============================] - 1s 4ms/step - loss: 0.0044 - accuracy: 0.9992 - val_loss: 0.6863 - val_accuracy: 0.9795\n",
            "Epoch 152/300\n",
            "300/300 [==============================] - 1s 4ms/step - loss: 0.0015 - accuracy: 0.9995 - val_loss: 0.7869 - val_accuracy: 0.9799\n",
            "Epoch 153/300\n",
            "300/300 [==============================] - 1s 4ms/step - loss: 0.0030 - accuracy: 0.9995 - val_loss: 0.8192 - val_accuracy: 0.9785\n",
            "Epoch 154/300\n",
            "300/300 [==============================] - 1s 4ms/step - loss: 0.0017 - accuracy: 0.9995 - val_loss: 0.8488 - val_accuracy: 0.9790\n",
            "Epoch 155/300\n",
            "300/300 [==============================] - 1s 4ms/step - loss: 0.0092 - accuracy: 0.9990 - val_loss: 0.8694 - val_accuracy: 0.9755\n",
            "Epoch 156/300\n",
            "300/300 [==============================] - 1s 4ms/step - loss: 0.0262 - accuracy: 0.9976 - val_loss: 0.7651 - val_accuracy: 0.9730\n",
            "Epoch 157/300\n",
            "300/300 [==============================] - 1s 4ms/step - loss: 0.0333 - accuracy: 0.9962 - val_loss: 0.7936 - val_accuracy: 0.9727\n",
            "Epoch 158/300\n",
            "300/300 [==============================] - 1s 4ms/step - loss: 0.0279 - accuracy: 0.9963 - val_loss: 0.5975 - val_accuracy: 0.9761\n",
            "Epoch 159/300\n",
            "300/300 [==============================] - 1s 4ms/step - loss: 0.0140 - accuracy: 0.9976 - val_loss: 0.7417 - val_accuracy: 0.9772\n",
            "Epoch 160/300\n",
            "300/300 [==============================] - 2s 5ms/step - loss: 0.0047 - accuracy: 0.9989 - val_loss: 0.8136 - val_accuracy: 0.9781\n",
            "Epoch 161/300\n",
            "300/300 [==============================] - 1s 4ms/step - loss: 0.0123 - accuracy: 0.9984 - val_loss: 0.5498 - val_accuracy: 0.9764\n",
            "Epoch 162/300\n",
            "300/300 [==============================] - 1s 4ms/step - loss: 0.0105 - accuracy: 0.9984 - val_loss: 0.9022 - val_accuracy: 0.9780\n",
            "Epoch 163/300\n",
            "300/300 [==============================] - 1s 4ms/step - loss: 0.0076 - accuracy: 0.9991 - val_loss: 0.8075 - val_accuracy: 0.9790\n",
            "Epoch 164/300\n",
            "300/300 [==============================] - 1s 4ms/step - loss: 0.0129 - accuracy: 0.9983 - val_loss: 0.8542 - val_accuracy: 0.9772\n",
            "Epoch 165/300\n",
            "300/300 [==============================] - 1s 4ms/step - loss: 0.0123 - accuracy: 0.9986 - val_loss: 0.8393 - val_accuracy: 0.9771\n",
            "Epoch 166/300\n",
            "300/300 [==============================] - 1s 4ms/step - loss: 0.0084 - accuracy: 0.9989 - val_loss: 0.7812 - val_accuracy: 0.9786\n",
            "Epoch 167/300\n",
            "300/300 [==============================] - 1s 4ms/step - loss: 0.0049 - accuracy: 0.9992 - val_loss: 0.9115 - val_accuracy: 0.9767\n",
            "Epoch 168/300\n",
            "300/300 [==============================] - 1s 4ms/step - loss: 0.0154 - accuracy: 0.9985 - val_loss: 0.6349 - val_accuracy: 0.9749\n",
            "Epoch 169/300\n",
            "300/300 [==============================] - 1s 4ms/step - loss: 0.0282 - accuracy: 0.9966 - val_loss: 0.6743 - val_accuracy: 0.9741\n",
            "Epoch 170/300\n",
            "300/300 [==============================] - 2s 5ms/step - loss: 0.0119 - accuracy: 0.9973 - val_loss: 0.6876 - val_accuracy: 0.9768\n",
            "Epoch 171/300\n",
            "300/300 [==============================] - 1s 4ms/step - loss: 0.0199 - accuracy: 0.9980 - val_loss: 0.6981 - val_accuracy: 0.9765\n",
            "Epoch 172/300\n",
            "300/300 [==============================] - 1s 4ms/step - loss: 0.0142 - accuracy: 0.9982 - val_loss: 0.8187 - val_accuracy: 0.9800\n",
            "Epoch 173/300\n",
            "300/300 [==============================] - 1s 4ms/step - loss: 0.0056 - accuracy: 0.9992 - val_loss: 0.7255 - val_accuracy: 0.9812\n",
            "Epoch 174/300\n",
            "300/300 [==============================] - 1s 4ms/step - loss: 0.0118 - accuracy: 0.9991 - val_loss: 0.7407 - val_accuracy: 0.9759\n",
            "Epoch 175/300\n",
            "300/300 [==============================] - 1s 4ms/step - loss: 0.0223 - accuracy: 0.9974 - val_loss: 0.8537 - val_accuracy: 0.9759\n",
            "Epoch 176/300\n",
            "300/300 [==============================] - 1s 4ms/step - loss: 0.0110 - accuracy: 0.9972 - val_loss: 0.9894 - val_accuracy: 0.9785\n",
            "Epoch 177/300\n",
            "300/300 [==============================] - 1s 4ms/step - loss: 0.0130 - accuracy: 0.9988 - val_loss: 0.9650 - val_accuracy: 0.9788\n",
            "Epoch 178/300\n",
            "300/300 [==============================] - 1s 4ms/step - loss: 0.0107 - accuracy: 0.9990 - val_loss: 0.9877 - val_accuracy: 0.9790\n",
            "Epoch 179/300\n",
            "300/300 [==============================] - 1s 4ms/step - loss: 0.0156 - accuracy: 0.9984 - val_loss: 0.9209 - val_accuracy: 0.9805\n",
            "Epoch 180/300\n",
            "300/300 [==============================] - 2s 6ms/step - loss: 0.0186 - accuracy: 0.9987 - val_loss: 0.9617 - val_accuracy: 0.9776\n",
            "Epoch 181/300\n",
            "300/300 [==============================] - 1s 4ms/step - loss: 0.0046 - accuracy: 0.9990 - val_loss: 0.9809 - val_accuracy: 0.9798\n",
            "Epoch 182/300\n",
            "300/300 [==============================] - 1s 4ms/step - loss: 0.0074 - accuracy: 0.9987 - val_loss: 0.8974 - val_accuracy: 0.9784\n",
            "Epoch 183/300\n",
            "300/300 [==============================] - 1s 4ms/step - loss: 0.0085 - accuracy: 0.9989 - val_loss: 0.8574 - val_accuracy: 0.9791\n",
            "Epoch 184/300\n",
            "300/300 [==============================] - 1s 4ms/step - loss: 0.0071 - accuracy: 0.9991 - val_loss: 0.7780 - val_accuracy: 0.9805\n",
            "Epoch 185/300\n",
            "300/300 [==============================] - 1s 4ms/step - loss: 0.0114 - accuracy: 0.9991 - val_loss: 1.0005 - val_accuracy: 0.9772\n",
            "Epoch 186/300\n",
            "300/300 [==============================] - 1s 4ms/step - loss: 0.0129 - accuracy: 0.9985 - val_loss: 0.7354 - val_accuracy: 0.9781\n",
            "Epoch 187/300\n",
            "300/300 [==============================] - 1s 4ms/step - loss: 0.0061 - accuracy: 0.9988 - val_loss: 0.8807 - val_accuracy: 0.9784\n",
            "Epoch 188/300\n",
            "300/300 [==============================] - 1s 4ms/step - loss: 0.0072 - accuracy: 0.9990 - val_loss: 0.7410 - val_accuracy: 0.9776\n",
            "Epoch 189/300\n",
            "300/300 [==============================] - 1s 4ms/step - loss: 0.0108 - accuracy: 0.9987 - val_loss: 0.8560 - val_accuracy: 0.9770\n",
            "Epoch 190/300\n",
            "300/300 [==============================] - 2s 6ms/step - loss: 0.0417 - accuracy: 0.9973 - val_loss: 0.7445 - val_accuracy: 0.9713\n",
            "Epoch 191/300\n",
            "300/300 [==============================] - 1s 5ms/step - loss: 0.0162 - accuracy: 0.9973 - val_loss: 0.6805 - val_accuracy: 0.9744\n",
            "Epoch 192/300\n",
            "300/300 [==============================] - 1s 4ms/step - loss: 0.0056 - accuracy: 0.9982 - val_loss: 0.8692 - val_accuracy: 0.9802\n",
            "Epoch 193/300\n",
            "300/300 [==============================] - 1s 4ms/step - loss: 0.0145 - accuracy: 0.9989 - val_loss: 0.7864 - val_accuracy: 0.9776\n",
            "Epoch 194/300\n",
            "300/300 [==============================] - 1s 4ms/step - loss: 0.0175 - accuracy: 0.9971 - val_loss: 0.6409 - val_accuracy: 0.9742\n",
            "Epoch 195/300\n",
            "300/300 [==============================] - 1s 4ms/step - loss: 0.0176 - accuracy: 0.9974 - val_loss: 0.6345 - val_accuracy: 0.9770\n",
            "Epoch 196/300\n",
            "300/300 [==============================] - 1s 4ms/step - loss: 0.0073 - accuracy: 0.9984 - val_loss: 0.5772 - val_accuracy: 0.9766\n",
            "Epoch 197/300\n",
            "300/300 [==============================] - 1s 4ms/step - loss: 0.0044 - accuracy: 0.9990 - val_loss: 0.7309 - val_accuracy: 0.9790\n",
            "Epoch 198/300\n",
            "300/300 [==============================] - 1s 4ms/step - loss: 0.0211 - accuracy: 0.9982 - val_loss: 0.6838 - val_accuracy: 0.9765\n",
            "Epoch 199/300\n",
            "300/300 [==============================] - 3s 9ms/step - loss: 0.0068 - accuracy: 0.9984 - val_loss: 0.7232 - val_accuracy: 0.9784\n",
            "Epoch 200/300\n",
            "300/300 [==============================] - 2s 8ms/step - loss: 0.0078 - accuracy: 0.9985 - val_loss: 0.8098 - val_accuracy: 0.9778\n",
            "Epoch 201/300\n",
            "300/300 [==============================] - 2s 5ms/step - loss: 0.0063 - accuracy: 0.9989 - val_loss: 0.8392 - val_accuracy: 0.9768\n",
            "Epoch 202/300\n",
            "300/300 [==============================] - 2s 6ms/step - loss: 0.0070 - accuracy: 0.9985 - val_loss: 0.8294 - val_accuracy: 0.9786\n",
            "Epoch 203/300\n",
            "300/300 [==============================] - 2s 7ms/step - loss: 0.0176 - accuracy: 0.9977 - val_loss: 0.7081 - val_accuracy: 0.9760\n",
            "Epoch 204/300\n",
            "300/300 [==============================] - 1s 4ms/step - loss: 0.0079 - accuracy: 0.9989 - val_loss: 1.0991 - val_accuracy: 0.9792\n",
            "Epoch 205/300\n",
            "300/300 [==============================] - 1s 4ms/step - loss: 0.0098 - accuracy: 0.9991 - val_loss: 1.0672 - val_accuracy: 0.9793\n",
            "Epoch 206/300\n",
            "300/300 [==============================] - 1s 4ms/step - loss: 0.0197 - accuracy: 0.9981 - val_loss: 0.9251 - val_accuracy: 0.9748\n",
            "Epoch 207/300\n",
            "300/300 [==============================] - 2s 5ms/step - loss: 0.0174 - accuracy: 0.9979 - val_loss: 1.0039 - val_accuracy: 0.9768\n",
            "Epoch 208/300\n",
            "300/300 [==============================] - 1s 4ms/step - loss: 0.0154 - accuracy: 0.9979 - val_loss: 0.8687 - val_accuracy: 0.9771\n",
            "Epoch 209/300\n",
            "300/300 [==============================] - 1s 4ms/step - loss: 0.0089 - accuracy: 0.9990 - val_loss: 1.1044 - val_accuracy: 0.9752\n",
            "Epoch 210/300\n",
            "300/300 [==============================] - 1s 4ms/step - loss: 0.0059 - accuracy: 0.9987 - val_loss: 0.9209 - val_accuracy: 0.9796\n",
            "Epoch 211/300\n",
            "300/300 [==============================] - 1s 4ms/step - loss: 0.0043 - accuracy: 0.9990 - val_loss: 0.9321 - val_accuracy: 0.9789\n",
            "Epoch 212/300\n",
            "300/300 [==============================] - 1s 4ms/step - loss: 0.0057 - accuracy: 0.9993 - val_loss: 0.9950 - val_accuracy: 0.9772\n",
            "Epoch 213/300\n",
            "300/300 [==============================] - 1s 4ms/step - loss: 0.0176 - accuracy: 0.9977 - val_loss: 1.1280 - val_accuracy: 0.9729\n",
            "Epoch 214/300\n",
            "300/300 [==============================] - 1s 4ms/step - loss: 0.0275 - accuracy: 0.9970 - val_loss: 1.0267 - val_accuracy: 0.9736\n",
            "Epoch 215/300\n",
            "300/300 [==============================] - 1s 4ms/step - loss: 0.0251 - accuracy: 0.9965 - val_loss: 0.8617 - val_accuracy: 0.9730\n",
            "Epoch 216/300\n",
            "300/300 [==============================] - 1s 4ms/step - loss: 0.0081 - accuracy: 0.9978 - val_loss: 0.7708 - val_accuracy: 0.9780\n",
            "Epoch 217/300\n",
            "300/300 [==============================] - 2s 5ms/step - loss: 0.0059 - accuracy: 0.9987 - val_loss: 1.0510 - val_accuracy: 0.9769\n",
            "Epoch 218/300\n",
            "300/300 [==============================] - 1s 4ms/step - loss: 0.0154 - accuracy: 0.9989 - val_loss: 1.0338 - val_accuracy: 0.9776\n",
            "Epoch 219/300\n",
            "300/300 [==============================] - 1s 4ms/step - loss: 0.0156 - accuracy: 0.9987 - val_loss: 1.1096 - val_accuracy: 0.9766\n",
            "Epoch 220/300\n",
            "300/300 [==============================] - 1s 4ms/step - loss: 0.0060 - accuracy: 0.9990 - val_loss: 1.0699 - val_accuracy: 0.9792\n",
            "Epoch 221/300\n",
            "300/300 [==============================] - 1s 4ms/step - loss: 0.0047 - accuracy: 0.9993 - val_loss: 1.0157 - val_accuracy: 0.9795\n",
            "Epoch 222/300\n",
            "300/300 [==============================] - 1s 4ms/step - loss: 0.0049 - accuracy: 0.9991 - val_loss: 0.9857 - val_accuracy: 0.9794\n",
            "Epoch 223/300\n",
            "300/300 [==============================] - 1s 4ms/step - loss: 0.0074 - accuracy: 0.9991 - val_loss: 1.0326 - val_accuracy: 0.9796\n",
            "Epoch 224/300\n",
            "300/300 [==============================] - 1s 4ms/step - loss: 0.0279 - accuracy: 0.9981 - val_loss: 0.8369 - val_accuracy: 0.9728\n",
            "Epoch 225/300\n",
            "300/300 [==============================] - 1s 4ms/step - loss: 0.0186 - accuracy: 0.9978 - val_loss: 1.1249 - val_accuracy: 0.9772\n",
            "Epoch 226/300\n",
            "300/300 [==============================] - 2s 5ms/step - loss: 0.0059 - accuracy: 0.9990 - val_loss: 1.0753 - val_accuracy: 0.9766\n",
            "Epoch 227/300\n",
            "300/300 [==============================] - 1s 5ms/step - loss: 0.0045 - accuracy: 0.9991 - val_loss: 0.9928 - val_accuracy: 0.9784\n",
            "Epoch 228/300\n",
            "300/300 [==============================] - 1s 4ms/step - loss: 0.0016 - accuracy: 0.9995 - val_loss: 1.3103 - val_accuracy: 0.9806\n",
            "Epoch 229/300\n",
            "300/300 [==============================] - 1s 4ms/step - loss: 0.0021 - accuracy: 0.9997 - val_loss: 1.5359 - val_accuracy: 0.9823\n",
            "Epoch 230/300\n",
            "300/300 [==============================] - 1s 4ms/step - loss: 0.0200 - accuracy: 0.9988 - val_loss: 1.2240 - val_accuracy: 0.9785\n",
            "Epoch 231/300\n",
            "300/300 [==============================] - 1s 4ms/step - loss: 0.0383 - accuracy: 0.9961 - val_loss: 1.0524 - val_accuracy: 0.9713\n",
            "Epoch 232/300\n",
            "300/300 [==============================] - 1s 4ms/step - loss: 0.0167 - accuracy: 0.9971 - val_loss: 0.9437 - val_accuracy: 0.9774\n",
            "Epoch 233/300\n",
            "300/300 [==============================] - 1s 4ms/step - loss: 0.0073 - accuracy: 0.9989 - val_loss: 1.3385 - val_accuracy: 0.9789\n",
            "Epoch 234/300\n",
            "300/300 [==============================] - 1s 4ms/step - loss: 0.0054 - accuracy: 0.9990 - val_loss: 1.2467 - val_accuracy: 0.9767\n",
            "Epoch 235/300\n",
            "300/300 [==============================] - 1s 4ms/step - loss: 0.0011 - accuracy: 0.9996 - val_loss: 1.3855 - val_accuracy: 0.9797\n",
            "Epoch 236/300\n",
            "300/300 [==============================] - 2s 5ms/step - loss: 9.6573e-04 - accuracy: 0.9997 - val_loss: 1.3133 - val_accuracy: 0.9799\n",
            "Epoch 237/300\n",
            "300/300 [==============================] - 1s 4ms/step - loss: 7.2153e-04 - accuracy: 0.9998 - val_loss: 1.3750 - val_accuracy: 0.9805\n",
            "Epoch 238/300\n",
            "300/300 [==============================] - 1s 4ms/step - loss: 0.0156 - accuracy: 0.9979 - val_loss: 1.3332 - val_accuracy: 0.9783\n",
            "Epoch 239/300\n",
            "300/300 [==============================] - 1s 4ms/step - loss: 0.0195 - accuracy: 0.9976 - val_loss: 1.2835 - val_accuracy: 0.9774\n",
            "Epoch 240/300\n",
            "300/300 [==============================] - 1s 4ms/step - loss: 0.0082 - accuracy: 0.9986 - val_loss: 1.5166 - val_accuracy: 0.9736\n",
            "Epoch 241/300\n",
            "300/300 [==============================] - 1s 4ms/step - loss: 0.0173 - accuracy: 0.9977 - val_loss: 1.1054 - val_accuracy: 0.9768\n",
            "Epoch 242/300\n",
            "300/300 [==============================] - 1s 4ms/step - loss: 0.0467 - accuracy: 0.9939 - val_loss: 0.8172 - val_accuracy: 0.9689\n",
            "Epoch 243/300\n",
            "300/300 [==============================] - 1s 4ms/step - loss: 0.0266 - accuracy: 0.9964 - val_loss: 1.3144 - val_accuracy: 0.9790\n",
            "Epoch 244/300\n",
            "300/300 [==============================] - 1s 4ms/step - loss: 0.0088 - accuracy: 0.9988 - val_loss: 1.6467 - val_accuracy: 0.9799\n",
            "Epoch 245/300\n",
            "300/300 [==============================] - 1s 5ms/step - loss: 0.0187 - accuracy: 0.9987 - val_loss: 1.4039 - val_accuracy: 0.9771\n",
            "Epoch 246/300\n",
            "300/300 [==============================] - 2s 6ms/step - loss: 0.0323 - accuracy: 0.9965 - val_loss: 1.3236 - val_accuracy: 0.9745\n",
            "Epoch 247/300\n",
            "300/300 [==============================] - 1s 4ms/step - loss: 0.0163 - accuracy: 0.9969 - val_loss: 1.2534 - val_accuracy: 0.9745\n",
            "Epoch 248/300\n",
            "300/300 [==============================] - 1s 4ms/step - loss: 0.0228 - accuracy: 0.9968 - val_loss: 1.3285 - val_accuracy: 0.9762\n",
            "Epoch 249/300\n",
            "300/300 [==============================] - 1s 4ms/step - loss: 0.0128 - accuracy: 0.9987 - val_loss: 1.3556 - val_accuracy: 0.9772\n",
            "Epoch 250/300\n",
            "300/300 [==============================] - 1s 4ms/step - loss: 0.0085 - accuracy: 0.9985 - val_loss: 1.6245 - val_accuracy: 0.9769\n",
            "Epoch 251/300\n",
            "300/300 [==============================] - 1s 4ms/step - loss: 0.0362 - accuracy: 0.9974 - val_loss: 1.0729 - val_accuracy: 0.9688\n",
            "Epoch 252/300\n",
            "300/300 [==============================] - 1s 4ms/step - loss: 0.0175 - accuracy: 0.9981 - val_loss: 1.1893 - val_accuracy: 0.9780\n",
            "Epoch 253/300\n",
            "300/300 [==============================] - 1s 4ms/step - loss: 0.0083 - accuracy: 0.9991 - val_loss: 1.2768 - val_accuracy: 0.9784\n",
            "Epoch 254/300\n",
            "300/300 [==============================] - 1s 4ms/step - loss: 0.0061 - accuracy: 0.9992 - val_loss: 1.5431 - val_accuracy: 0.9782\n",
            "Epoch 255/300\n",
            "300/300 [==============================] - 2s 5ms/step - loss: 0.0023 - accuracy: 0.9995 - val_loss: 1.4695 - val_accuracy: 0.9799\n",
            "Epoch 256/300\n",
            "300/300 [==============================] - 1s 4ms/step - loss: 0.0078 - accuracy: 0.9992 - val_loss: 1.2402 - val_accuracy: 0.9781\n",
            "Epoch 257/300\n",
            "300/300 [==============================] - 1s 4ms/step - loss: 0.0148 - accuracy: 0.9984 - val_loss: 1.2896 - val_accuracy: 0.9765\n",
            "Epoch 258/300\n",
            "300/300 [==============================] - 1s 4ms/step - loss: 0.0166 - accuracy: 0.9981 - val_loss: 1.6363 - val_accuracy: 0.9761\n",
            "Epoch 259/300\n",
            "300/300 [==============================] - 1s 4ms/step - loss: 0.0229 - accuracy: 0.9977 - val_loss: 1.1507 - val_accuracy: 0.9743\n",
            "Epoch 260/300\n",
            "300/300 [==============================] - 1s 4ms/step - loss: 0.0135 - accuracy: 0.9987 - val_loss: 1.6248 - val_accuracy: 0.9750\n",
            "Epoch 261/300\n",
            "300/300 [==============================] - 1s 4ms/step - loss: 0.0192 - accuracy: 0.9978 - val_loss: 1.4011 - val_accuracy: 0.9758\n",
            "Epoch 262/300\n",
            "300/300 [==============================] - 1s 4ms/step - loss: 0.0084 - accuracy: 0.9989 - val_loss: 1.2381 - val_accuracy: 0.9780\n",
            "Epoch 263/300\n",
            "300/300 [==============================] - 1s 4ms/step - loss: 0.0099 - accuracy: 0.9978 - val_loss: 1.1848 - val_accuracy: 0.9733\n",
            "Epoch 264/300\n",
            "300/300 [==============================] - 1s 5ms/step - loss: 0.0064 - accuracy: 0.9987 - val_loss: 1.2762 - val_accuracy: 0.9758\n",
            "Epoch 265/300\n",
            "300/300 [==============================] - 2s 5ms/step - loss: 0.0141 - accuracy: 0.9981 - val_loss: 1.0901 - val_accuracy: 0.9736\n",
            "Epoch 266/300\n",
            "300/300 [==============================] - 1s 4ms/step - loss: 0.0044 - accuracy: 0.9986 - val_loss: 1.4530 - val_accuracy: 0.9779\n",
            "Epoch 267/300\n",
            "300/300 [==============================] - 1s 4ms/step - loss: 0.0098 - accuracy: 0.9985 - val_loss: 1.5730 - val_accuracy: 0.9764\n",
            "Epoch 268/300\n",
            "300/300 [==============================] - 1s 4ms/step - loss: 0.0176 - accuracy: 0.9986 - val_loss: 1.3270 - val_accuracy: 0.9751\n",
            "Epoch 269/300\n",
            "300/300 [==============================] - 1s 4ms/step - loss: 0.0228 - accuracy: 0.9964 - val_loss: 1.0875 - val_accuracy: 0.9734\n",
            "Epoch 270/300\n",
            "300/300 [==============================] - 1s 4ms/step - loss: 0.0097 - accuracy: 0.9987 - val_loss: 1.0622 - val_accuracy: 0.9765\n",
            "Epoch 271/300\n",
            "300/300 [==============================] - 1s 4ms/step - loss: 0.0024 - accuracy: 0.9992 - val_loss: 1.1165 - val_accuracy: 0.9774\n",
            "Epoch 272/300\n",
            "300/300 [==============================] - 1s 4ms/step - loss: 0.0012 - accuracy: 0.9995 - val_loss: 1.1646 - val_accuracy: 0.9785\n",
            "Epoch 273/300\n",
            "300/300 [==============================] - 1s 4ms/step - loss: 9.0271e-04 - accuracy: 0.9997 - val_loss: 1.3940 - val_accuracy: 0.9787\n",
            "Epoch 274/300\n",
            "300/300 [==============================] - 1s 5ms/step - loss: 0.0099 - accuracy: 0.9985 - val_loss: 1.2632 - val_accuracy: 0.9774\n",
            "Epoch 275/300\n",
            "300/300 [==============================] - 2s 5ms/step - loss: 0.0151 - accuracy: 0.9982 - val_loss: 1.3556 - val_accuracy: 0.9772\n",
            "Epoch 276/300\n",
            "300/300 [==============================] - 1s 4ms/step - loss: 0.0296 - accuracy: 0.9976 - val_loss: 1.2884 - val_accuracy: 0.9739\n",
            "Epoch 277/300\n",
            "300/300 [==============================] - 1s 4ms/step - loss: 0.0354 - accuracy: 0.9974 - val_loss: 0.7868 - val_accuracy: 0.9698\n",
            "Epoch 278/300\n",
            "300/300 [==============================] - 1s 4ms/step - loss: 0.0200 - accuracy: 0.9962 - val_loss: 1.1179 - val_accuracy: 0.9737\n",
            "Epoch 279/300\n",
            "300/300 [==============================] - 1s 4ms/step - loss: 0.0157 - accuracy: 0.9975 - val_loss: 1.2936 - val_accuracy: 0.9744\n",
            "Epoch 280/300\n",
            "300/300 [==============================] - 1s 4ms/step - loss: 0.0112 - accuracy: 0.9983 - val_loss: 1.4157 - val_accuracy: 0.9762\n",
            "Epoch 281/300\n",
            "300/300 [==============================] - 1s 4ms/step - loss: 0.0124 - accuracy: 0.9986 - val_loss: 1.3715 - val_accuracy: 0.9770\n",
            "Epoch 282/300\n",
            "300/300 [==============================] - 1s 4ms/step - loss: 0.0082 - accuracy: 0.9982 - val_loss: 1.4248 - val_accuracy: 0.9744\n",
            "Epoch 283/300\n",
            "300/300 [==============================] - 1s 4ms/step - loss: 0.0054 - accuracy: 0.9984 - val_loss: 1.6693 - val_accuracy: 0.9764\n",
            "Epoch 284/300\n",
            "300/300 [==============================] - 1s 5ms/step - loss: 0.0375 - accuracy: 0.9981 - val_loss: 1.3916 - val_accuracy: 0.9713\n",
            "Epoch 285/300\n",
            "300/300 [==============================] - 2s 6ms/step - loss: 0.0307 - accuracy: 0.9944 - val_loss: 1.1017 - val_accuracy: 0.9692\n",
            "Epoch 286/300\n",
            "300/300 [==============================] - 1s 4ms/step - loss: 0.0110 - accuracy: 0.9971 - val_loss: 1.1704 - val_accuracy: 0.9721\n",
            "Epoch 287/300\n",
            "300/300 [==============================] - 1s 4ms/step - loss: 0.0126 - accuracy: 0.9973 - val_loss: 1.1894 - val_accuracy: 0.9731\n",
            "Epoch 288/300\n",
            "300/300 [==============================] - 1s 4ms/step - loss: 0.0134 - accuracy: 0.9985 - val_loss: 1.4956 - val_accuracy: 0.9732\n",
            "Epoch 289/300\n",
            "300/300 [==============================] - 1s 4ms/step - loss: 0.0178 - accuracy: 0.9979 - val_loss: 1.4288 - val_accuracy: 0.9768\n",
            "Epoch 290/300\n",
            "300/300 [==============================] - 1s 4ms/step - loss: 0.0092 - accuracy: 0.9990 - val_loss: 1.8393 - val_accuracy: 0.9747\n",
            "Epoch 291/300\n",
            "300/300 [==============================] - 1s 4ms/step - loss: 0.0257 - accuracy: 0.9978 - val_loss: 1.2468 - val_accuracy: 0.9757\n",
            "Epoch 292/300\n",
            "300/300 [==============================] - 1s 4ms/step - loss: 0.0159 - accuracy: 0.9977 - val_loss: 1.1439 - val_accuracy: 0.9755\n",
            "Epoch 293/300\n",
            "300/300 [==============================] - 1s 4ms/step - loss: 0.0272 - accuracy: 0.9979 - val_loss: 1.3281 - val_accuracy: 0.9739\n",
            "Epoch 294/300\n",
            "300/300 [==============================] - 1s 4ms/step - loss: 0.0112 - accuracy: 0.9977 - val_loss: 1.1261 - val_accuracy: 0.9754\n",
            "Epoch 295/300\n",
            "300/300 [==============================] - 2s 5ms/step - loss: 0.0107 - accuracy: 0.9974 - val_loss: 1.4197 - val_accuracy: 0.9770\n",
            "Epoch 296/300\n",
            "300/300 [==============================] - 1s 4ms/step - loss: 0.0030 - accuracy: 0.9993 - val_loss: 1.4926 - val_accuracy: 0.9798\n",
            "Epoch 297/300\n",
            "300/300 [==============================] - 1s 4ms/step - loss: 0.0018 - accuracy: 0.9996 - val_loss: 1.9606 - val_accuracy: 0.9783\n",
            "Epoch 298/300\n",
            "300/300 [==============================] - 1s 4ms/step - loss: 0.0165 - accuracy: 0.9977 - val_loss: 2.0125 - val_accuracy: 0.9748\n",
            "Epoch 299/300\n",
            "300/300 [==============================] - 1s 4ms/step - loss: 0.0290 - accuracy: 0.9962 - val_loss: 1.5722 - val_accuracy: 0.9746\n",
            "Epoch 300/300\n",
            "300/300 [==============================] - 1s 4ms/step - loss: 0.0230 - accuracy: 0.9973 - val_loss: 1.5243 - val_accuracy: 0.9734\n"
          ]
        }
      ],
      "source": [
        "hist = model.fit(x_train,y_train,epochs=300,batch_size=200,validation_data=(x_test,y_test))"
      ]
    },
    {
      "cell_type": "markdown",
      "metadata": {
        "id": "W4BfjbaonA9q"
      },
      "source": [
        "# Save"
      ]
    },
    {
      "cell_type": "code",
      "execution_count": 19,
      "metadata": {
        "colab": {
          "base_uri": "https://localhost:8080/"
        },
        "id": "hl_XR2c6m64L",
        "outputId": "d31eae94-7cfa-4277-cbf6-84470b688bc6"
      },
      "outputs": [
        {
          "name": "stderr",
          "output_type": "stream",
          "text": [
            "/usr/local/lib/python3.10/dist-packages/keras/src/engine/training.py:3103: UserWarning: You are saving your model as an HDF5 file via `model.save()`. This file format is considered legacy. We recommend using instead the native Keras format, e.g. `model.save('my_model.keras')`.\n",
            "  saving_api.save_model(\n"
          ]
        }
      ],
      "source": [
        "model.save(\"mnits.h5\")"
      ]
    },
    {
      "cell_type": "markdown",
      "metadata": {
        "id": "CTUoKbWd30vy"
      },
      "source": [
        "# Load Model"
      ]
    },
    {
      "cell_type": "code",
      "execution_count": 26,
      "metadata": {
        "id": "8yOf0IYg30XS"
      },
      "outputs": [],
      "source": [
        "model_load = keras.models.load_model(\"mnits.h5\")"
      ]
    },
    {
      "cell_type": "markdown",
      "metadata": {
        "id": "2UnY2K_N4Dpo"
      },
      "source": [
        "# History"
      ]
    },
    {
      "cell_type": "code",
      "execution_count": 27,
      "metadata": {
        "id": "wwoR5KUf4Fce"
      },
      "outputs": [],
      "source": [
        "acc = hist.history['accuracy']\n",
        "acc_val = hist.history['val_accuracy']\n",
        "loss = hist.history['loss']\n",
        "loss_val = hist.history['val_loss']\n"
      ]
    },
    {
      "cell_type": "markdown",
      "metadata": {
        "id": "zcHKR0oP68ih"
      },
      "source": [
        "# accuracy"
      ]
    },
    {
      "cell_type": "code",
      "execution_count": 34,
      "metadata": {
        "colab": {
          "base_uri": "https://localhost:8080/"
        },
        "id": "kuzSO2fn6_CC",
        "outputId": "f274cb14-0bdf-4d20-d1e5-864c37bf5dff"
      },
      "outputs": [
        {
          "name": "stdout",
          "output_type": "stream",
          "text": [
            "313/313 [==============================] - 1s 2ms/step - loss: 1.5243 - accuracy: 0.9734\n"
          ]
        },
        {
          "data": {
            "text/plain": [
              "[1.5242788791656494, 0.9733999967575073]"
            ]
          },
          "execution_count": 34,
          "metadata": {},
          "output_type": "execute_result"
        }
      ],
      "source": [
        "accuracy = model.evaluate(x_test,y_test)\n",
        "accuracy"
      ]
    },
    {
      "cell_type": "markdown",
      "metadata": {
        "id": "J2FtrYU-nT2O"
      },
      "source": [
        "# Plot"
      ]
    },
    {
      "cell_type": "code",
      "execution_count": 33,
      "metadata": {
        "colab": {
          "base_uri": "https://localhost:8080/",
          "height": 430
        },
        "id": "TQ_r5fU9nRZ6",
        "outputId": "bfd73aba-e245-4333-a8a1-b4cf1e18556c"
      },
      "outputs": [
        {
          "data": {
            "image/png": "[encoded data removed]",
            "text/plain": [
              "<Figure size 640x480 with 1 Axes>"
            ]
          },
          "metadata": {},
          "output_type": "display_data"
        }
      ],
      "source": [
        "plt.plot(acc,color=\"red\",label=\"accuracy\")\n",
        "plt.plot(acc_val,color=\"green\",label=\"validation accuracy\")\n",
        "plt.plot(loss,color=\"blue\",label=\"loss\")\n",
        "plt.plot(loss_val,color=\"orange\",label=\"validation loss\")\n",
        "plt.legend()\n",
        "plt.show()"
      ]
    }
  ],
  "metadata": {
    "accelerator": "GPU",
    "colab": {
      "gpuType": "T4",
      "provenance": []
    },
    "kernelspec": {
      "display_name": "Python 3",
      "name": "python3"
    },
    "language_info": {
      "codemirror_mode": {
        "name": "ipython",
        "version": 3
      },
      "file_extension": ".py",
      "mimetype": "text/x-python",
      "name": "python",
      "nbconvert_exporter": "python",
      "pygments_lexer": "ipython3",
      "version": "3.12.1"
    }
  },
  "nbformat": 4,
  "nbformat_minor": 0
}
